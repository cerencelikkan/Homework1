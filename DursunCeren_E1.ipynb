{
 "cells": [
  {
   "cell_type": "markdown",
   "id": "f27c18ef-cf1c-4634-9ca3-b87fab9c81cf",
   "metadata": {},
   "source": [
    "**Basics**\n",
    "* Exercise 1.1: The Interpreter"
   ]
  },
  {
   "cell_type": "code",
   "execution_count": 1,
   "id": "d65ec585-680b-45ef-a026-d30f63971989",
   "metadata": {},
   "outputs": [
    {
     "data": {
      "text/plain": [
       "4"
      ]
     },
     "execution_count": 1,
     "metadata": {},
     "output_type": "execute_result"
    }
   ],
   "source": [
    "#a\n",
    "3+1"
   ]
  },
  {
   "cell_type": "code",
   "execution_count": 2,
   "id": "c2886b71-b6a0-465b-ad57-b88130200979",
   "metadata": {},
   "outputs": [
    {
     "data": {
      "text/plain": [
       "9"
      ]
     },
     "execution_count": 2,
     "metadata": {},
     "output_type": "execute_result"
    }
   ],
   "source": [
    "#b\n",
    "3*3"
   ]
  },
  {
   "cell_type": "code",
   "execution_count": 3,
   "id": "8dad1138-8582-48ea-a110-50bbddc943c4",
   "metadata": {},
   "outputs": [
    {
     "data": {
      "text/plain": [
       "8"
      ]
     },
     "execution_count": 3,
     "metadata": {},
     "output_type": "execute_result"
    }
   ],
   "source": [
    "#c\n",
    "2**3"
   ]
  },
  {
   "cell_type": "code",
   "execution_count": 4,
   "id": "202cba22-5ac5-4920-9829-802774ddad25",
   "metadata": {},
   "outputs": [
    {
     "data": {
      "text/plain": [
       "'Hello,world!'"
      ]
     },
     "execution_count": 4,
     "metadata": {},
     "output_type": "execute_result"
    }
   ],
   "source": [
    "#d\n",
    "\"Hello,world!\""
   ]
  },
  {
   "cell_type": "markdown",
   "id": "ff21e03d-8d24-4182-adf4-cb6169a28d24",
   "metadata": {},
   "source": [
    "In the exercises 1a,1b and 1c, the interpreter simply acts as an calculator and does the calculations regarding the operators given in the code. (The ** acts as an exponentiation operation, exponentiation raises the base to the power of the exponent thus the answer is 8.\n",
    "In 1d, the output string is Hello, world!"
   ]
  },
  {
   "cell_type": "markdown",
   "id": "a3905a63-de90-4ebc-a011-2d317d975247",
   "metadata": {},
   "source": [
    "* Exercise 1.2: Scripts"
   ]
  },
  {
   "cell_type": "markdown",
   "id": "df56780b-bef6-4fbb-a008-bdb5f0e6ab21",
   "metadata": {},
   "source": [
    "It executes from top to bottom. So the output is solely, 'Hello,world!. In order the fix this problem, the print function should be used for each line."
   ]
  },
  {
   "cell_type": "markdown",
   "id": "42a8206b-2d6f-4224-a953-f2e4441997a2",
   "metadata": {},
   "source": [
    "* Exercise 1.3: More Interpreter"
   ]
  },
  {
   "cell_type": "code",
   "execution_count": 5,
   "id": "8c2a2cbc-635d-479e-8da1-90f776a40af9",
   "metadata": {},
   "outputs": [
    {
     "data": {
      "text/plain": [
       "'python'"
      ]
     },
     "execution_count": 5,
     "metadata": {},
     "output_type": "execute_result"
    }
   ],
   "source": [
    "#a\n",
    "'py' + 'thon'"
   ]
  },
  {
   "cell_type": "code",
   "execution_count": 6,
   "id": "c8306be3-ac70-4248-ae1a-374c7563b55b",
   "metadata": {},
   "outputs": [
    {
     "data": {
      "text/plain": [
       "'pypypython'"
      ]
     },
     "execution_count": 6,
     "metadata": {},
     "output_type": "execute_result"
    }
   ],
   "source": [
    "#b\n",
    "'py'*3+'thon'"
   ]
  },
  {
   "cell_type": "code",
   "execution_count": 7,
   "id": "758708ea-0847-49e6-bf83-eb8f8ad03c55",
   "metadata": {},
   "outputs": [
    {
     "ename": "TypeError",
     "evalue": "unsupported operand type(s) for -: 'str' and 'str'",
     "output_type": "error",
     "traceback": [
      "\u001b[1;31m---------------------------------------------------------------------------\u001b[0m",
      "\u001b[1;31mTypeError\u001b[0m                                 Traceback (most recent call last)",
      "\u001b[1;32m<ipython-input-7-b661b3db8386>\u001b[0m in \u001b[0;36m<module>\u001b[1;34m\u001b[0m\n\u001b[0;32m      1\u001b[0m \u001b[1;31m#c\u001b[0m\u001b[1;33m\u001b[0m\u001b[1;33m\u001b[0m\u001b[1;33m\u001b[0m\u001b[0m\n\u001b[1;32m----> 2\u001b[1;33m \u001b[1;34m'py'\u001b[0m\u001b[1;33m-\u001b[0m\u001b[1;34m'py'\u001b[0m\u001b[1;33m\u001b[0m\u001b[1;33m\u001b[0m\u001b[0m\n\u001b[0m",
      "\u001b[1;31mTypeError\u001b[0m: unsupported operand type(s) for -: 'str' and 'str'"
     ]
    }
   ],
   "source": [
    "#c\n",
    "'py'-'py'"
   ]
  },
  {
   "cell_type": "code",
   "execution_count": null,
   "id": "b3223829-dc98-4a35-8bc4-327c29bbc25d",
   "metadata": {},
   "outputs": [],
   "source": [
    "#d\n",
    "'3'+3"
   ]
  },
  {
   "cell_type": "code",
   "execution_count": null,
   "id": "b785874c-0301-4abb-84ff-cdcbaf69f46b",
   "metadata": {},
   "outputs": [],
   "source": [
    "#e\n",
    "3*'3'"
   ]
  },
  {
   "cell_type": "code",
   "execution_count": null,
   "id": "fb36a536-0e25-439c-90ab-a3465b90f830",
   "metadata": {},
   "outputs": [],
   "source": [
    "#f\n",
    "a"
   ]
  },
  {
   "cell_type": "code",
   "execution_count": null,
   "id": "569e9825-dc8c-4c5a-9111-c5cd8d146bb4",
   "metadata": {},
   "outputs": [],
   "source": [
    "#g\n",
    "a=3"
   ]
  },
  {
   "cell_type": "code",
   "execution_count": null,
   "id": "8926cc5b-65c0-4947-8628-bef296ae63f3",
   "metadata": {},
   "outputs": [],
   "source": [
    "#h\n",
    "a"
   ]
  },
  {
   "cell_type": "markdown",
   "id": "148962b9-cfbc-4e28-9288-52ad153a1e6d",
   "metadata": {},
   "source": [
    "In python, for concatenation, the + operator could be used, as well as the * operator could be use for the multiplication. However, the - is an unsupported operand. The concatenation of a string and an integer is not supported. When we are declaring a variable, we have to set it to a value. "
   ]
  },
  {
   "cell_type": "markdown",
   "id": "1e125543-13f5-43d4-b1d6-8cdda11fbf1a",
   "metadata": {},
   "source": [
    "* Exercise 1.4:Booleans"
   ]
  },
  {
   "cell_type": "code",
   "execution_count": 1,
   "id": "990fdbbb-ec70-4377-9c4f-414b4380be74",
   "metadata": {},
   "outputs": [
    {
     "data": {
      "text/plain": [
       "True"
      ]
     },
     "execution_count": 1,
     "metadata": {},
     "output_type": "execute_result"
    }
   ],
   "source": [
    "#a\n",
    "1==1"
   ]
  },
  {
   "cell_type": "code",
   "execution_count": null,
   "id": "0a6615e4-0c0c-472b-8b63-c2833a66df76",
   "metadata": {},
   "outputs": [],
   "source": [
    "#b\n",
    "1==True"
   ]
  },
  {
   "cell_type": "code",
   "execution_count": 2,
   "id": "8cd3c4be-82f5-4217-8438-1c4ab65499d0",
   "metadata": {},
   "outputs": [
    {
     "data": {
      "text/plain": [
       "False"
      ]
     },
     "execution_count": 2,
     "metadata": {},
     "output_type": "execute_result"
    }
   ],
   "source": [
    "#c\n",
    "0==True"
   ]
  },
  {
   "cell_type": "code",
   "execution_count": null,
   "id": "bd9fd290-33c3-42ea-9816-a3c6fc395364",
   "metadata": {},
   "outputs": [],
   "source": [
    "#d\n",
    "0==False"
   ]
  },
  {
   "cell_type": "code",
   "execution_count": 4,
   "id": "1f130dc0-7db3-4077-8510-fe5d25bf59d8",
   "metadata": {},
   "outputs": [
    {
     "data": {
      "text/plain": [
       "True"
      ]
     },
     "execution_count": 4,
     "metadata": {},
     "output_type": "execute_result"
    }
   ],
   "source": [
    "#e\n",
    "3==1*3"
   ]
  },
  {
   "cell_type": "code",
   "execution_count": 3,
   "id": "8d2f383f-874a-4173-ba46-2197bc1d530c",
   "metadata": {},
   "outputs": [
    {
     "data": {
      "text/plain": [
       "0"
      ]
     },
     "execution_count": 3,
     "metadata": {},
     "output_type": "execute_result"
    }
   ],
   "source": [
    "#f\n",
    "(3==1)*3"
   ]
  },
  {
   "cell_type": "code",
   "execution_count": 5,
   "id": "6744b46e-304f-41e2-bff3-b24ea015c2c0",
   "metadata": {},
   "outputs": [
    {
     "data": {
      "text/plain": [
       "False"
      ]
     },
     "execution_count": 5,
     "metadata": {},
     "output_type": "execute_result"
    }
   ],
   "source": [
    "#g\n",
    "(3 == 3) * 4 + 3 == 1"
   ]
  },
  {
   "cell_type": "code",
   "execution_count": 6,
   "id": "310b2e32-bee9-47d8-8cde-cc2a98389a43",
   "metadata": {},
   "outputs": [
    {
     "data": {
      "text/plain": [
       "False"
      ]
     },
     "execution_count": 6,
     "metadata": {},
     "output_type": "execute_result"
    }
   ],
   "source": [
    "#h\n",
    "3**5 >= 4**4"
   ]
  },
  {
   "cell_type": "markdown",
   "id": "db8dc55c-72da-4e47-93d4-2667963e4f03",
   "metadata": {},
   "source": [
    "In a, 1 is equal to 1 so it returns the boolean true value. In b, the result is true since default 1 is true. In c, the default 0 is false so the result is False and thus, in d the result is true. In e, 3==3 is True. In f,3==1 is false so the value is 0 and thus the out put is also 0. In g, 1x4=4 and + 3 is 7 so it is not equal to 1 so the output is false. Lastly in h, 15 is not greater or equal to 256 so the output is false."
   ]
  },
  {
   "cell_type": "markdown",
   "id": "79a6e6d1-f99d-46b2-878a-074ba911b2ee",
   "metadata": {},
   "source": [
    "* Exercise 1.5: Integers"
   ]
  },
  {
   "cell_type": "code",
   "execution_count": null,
   "id": "6d14e925-dca8-4d1e-b8e8-666324c7832e",
   "metadata": {},
   "outputs": [],
   "source": [
    "#a\n",
    "5/3"
   ]
  },
  {
   "cell_type": "code",
   "execution_count": null,
   "id": "6df43c6d-c4c3-4a89-991b-b89fa82b7309",
   "metadata": {},
   "outputs": [],
   "source": [
    "#b\n",
    "5%3"
   ]
  },
  {
   "cell_type": "code",
   "execution_count": null,
   "id": "2098f91b-455b-48aa-b27e-19b84a0e26d2",
   "metadata": {},
   "outputs": [],
   "source": [
    "#c\n",
    "5.0/3"
   ]
  },
  {
   "cell_type": "code",
   "execution_count": null,
   "id": "1a9cda28-f538-4e36-ac43-1d33b5a7d061",
   "metadata": {},
   "outputs": [],
   "source": [
    "#d\n",
    "5/3.0"
   ]
  },
  {
   "cell_type": "code",
   "execution_count": 7,
   "id": "d03a1dd9-d5e3-4582-92b6-46b424e05e95",
   "metadata": {},
   "outputs": [
    {
     "data": {
      "text/plain": [
       "2.2"
      ]
     },
     "execution_count": 7,
     "metadata": {},
     "output_type": "execute_result"
    }
   ],
   "source": [
    "#e\n",
    "5.2%3"
   ]
  },
  {
   "cell_type": "code",
   "execution_count": 8,
   "id": "a1fc28ab-f848-41b1-86f1-37874ea4fb2b",
   "metadata": {
    "tags": []
   },
   "outputs": [
    {
     "data": {
      "text/plain": [
       "1775896810483121914350934797871501063452843428843794422323202530887281536545210629921129898113201749875234297340507804201761453596034016264189501186924066128377025843892373608427790859511135990682732202975330824797118808624727351608183194154557208730494440110429635650057431833674286462463508755276302896154336475782768613964332764108132533925570342220340698973761380541294970139762186212823359128790706292900765512137078550033912252338262922477518858757114840012576514724742388124595061301502222934806074032688691170880996881967426442947828261057852871032366879179996122216385870273020506079240103910728766397733398071775041745854959302025036249707279600400001"
      ]
     },
     "execution_count": 8,
     "metadata": {},
     "output_type": "execute_result"
    }
   ],
   "source": [
    "#f\n",
    "2001**200"
   ]
  },
  {
   "cell_type": "markdown",
   "id": "d3a0dd89-86a3-4a07-9ccb-0ca108b91c5f",
   "metadata": {},
   "source": [
    "a,c,d = output defaults to floating point division\n",
    "b= The remainder thus the output is 2.\n",
    "e= Remainder of a float value\n",
    "f= The output is a large number, the result of 2001^200."
   ]
  },
  {
   "cell_type": "markdown",
   "id": "c5d3bf0c-9be0-43db-a837-8bf20761a2a6",
   "metadata": {},
   "source": [
    "* Exercise 1.6: Floats"
   ]
  },
  {
   "cell_type": "code",
   "execution_count": null,
   "id": "7cf540a9-211e-49a5-8e69-abb7da366343",
   "metadata": {},
   "outputs": [],
   "source": [
    "#a\n",
    "2000.3 ** 200 "
   ]
  },
  {
   "cell_type": "code",
   "execution_count": 9,
   "id": "5d472e78-c628-4699-b6de-1d4bf721ca45",
   "metadata": {},
   "outputs": [
    {
     "data": {
      "text/plain": [
       "1.0"
      ]
     },
     "execution_count": 9,
     "metadata": {},
     "output_type": "execute_result"
    }
   ],
   "source": [
    "#b\n",
    "1.0 + 1.0 - 1.0\n"
   ]
  },
  {
   "cell_type": "code",
   "execution_count": 24,
   "id": "4ddfc9b6-c0f0-4380-b7f8-77224017bed2",
   "metadata": {},
   "outputs": [
    {
     "data": {
      "text/plain": [
       "0.0"
      ]
     },
     "execution_count": 24,
     "metadata": {},
     "output_type": "execute_result"
    }
   ],
   "source": [
    "#c\n",
    "1.0 + 1.0e20 - 1.0e20"
   ]
  },
  {
   "cell_type": "markdown",
   "id": "c3c0fb1b-be47-4f10-a497-f7a184a364d0",
   "metadata": {},
   "source": [
    "a=the small multiplication seems to be 3.1565130025242204E + 261), it has overflowed when used in 2000.3\n",
    "b= The 1.0's cancels each other out so the result is 1.0\n",
    "c= Since 1.0e20 is relatively large, 1.0 is ignored."
   ]
  },
  {
   "cell_type": "markdown",
   "id": "113dce02-4a3a-4eaf-97b5-7ff082ecec45",
   "metadata": {},
   "source": [
    "* Exercise 1.7: Variables"
   ]
  },
  {
   "cell_type": "code",
   "execution_count": null,
   "id": "39259d67-00b5-4857-9022-2c08893c4063",
   "metadata": {},
   "outputs": [],
   "source": [
    "x='John Doe' #the variable that holds the name with a string\n",
    "print(\"Hello,\"+ x+'!')"
   ]
  },
  {
   "cell_type": "markdown",
   "id": "ae1bfc5e-cbdb-431f-9970-0e095b76ee0e",
   "metadata": {},
   "source": [
    "* Exercise 1.8: Type Casting"
   ]
  },
  {
   "cell_type": "code",
   "execution_count": 10,
   "id": "5da034fb-00ee-4fe7-91af-3390d78c64cc",
   "metadata": {},
   "outputs": [
    {
     "data": {
      "text/plain": [
       "123.0"
      ]
     },
     "execution_count": 10,
     "metadata": {},
     "output_type": "execute_result"
    }
   ],
   "source": [
    "#a\n",
    "float(123) #convers the integer to a float type."
   ]
  },
  {
   "cell_type": "code",
   "execution_count": 12,
   "id": "984266c7-9890-44b1-a0e7-9488d02aa74c",
   "metadata": {},
   "outputs": [
    {
     "data": {
      "text/plain": [
       "123.0"
      ]
     },
     "execution_count": 12,
     "metadata": {},
     "output_type": "execute_result"
    }
   ],
   "source": [
    "#b\n",
    "float('123') #converts the string typee into a float type."
   ]
  },
  {
   "cell_type": "code",
   "execution_count": null,
   "id": "b1e08df0-a7e0-4bad-9813-d9a4c1853f75",
   "metadata": {},
   "outputs": [],
   "source": [
    "#c\n",
    "float('123.23') #converts 123.23 string to single precision floating point"
   ]
  },
  {
   "cell_type": "code",
   "execution_count": 13,
   "id": "2c143b3b-8000-4ec4-9c0c-c8b39b8f20f8",
   "metadata": {},
   "outputs": [
    {
     "data": {
      "text/plain": [
       "123"
      ]
     },
     "execution_count": 13,
     "metadata": {},
     "output_type": "execute_result"
    }
   ],
   "source": [
    "#d\n",
    "int(123.23) #converts the float type to integer type."
   ]
  },
  {
   "cell_type": "code",
   "execution_count": 14,
   "id": "c90de241-f167-4382-b903-094617e07d15",
   "metadata": {},
   "outputs": [
    {
     "ename": "ValueError",
     "evalue": "invalid literal for int() with base 10: '123.23'",
     "output_type": "error",
     "traceback": [
      "\u001b[1;31m---------------------------------------------------------------------------\u001b[0m",
      "\u001b[1;31mValueError\u001b[0m                                Traceback (most recent call last)",
      "\u001b[1;32m<ipython-input-14-28adb33aec33>\u001b[0m in \u001b[0;36m<module>\u001b[1;34m\u001b[0m\n\u001b[0;32m      1\u001b[0m \u001b[1;31m#e\u001b[0m\u001b[1;33m\u001b[0m\u001b[1;33m\u001b[0m\u001b[1;33m\u001b[0m\u001b[0m\n\u001b[1;32m----> 2\u001b[1;33m \u001b[0mint\u001b[0m\u001b[1;33m(\u001b[0m\u001b[1;34m'123.23'\u001b[0m\u001b[1;33m)\u001b[0m\u001b[1;33m\u001b[0m\u001b[1;33m\u001b[0m\u001b[0m\n\u001b[0m",
      "\u001b[1;31mValueError\u001b[0m: invalid literal for int() with base 10: '123.23'"
     ]
    }
   ],
   "source": [
    "#e\n",
    "int('123.23') #invalid literal error since its a float number."
   ]
  },
  {
   "cell_type": "code",
   "execution_count": 15,
   "id": "10da719e-6272-4ab6-b2c5-fada0f332104",
   "metadata": {},
   "outputs": [
    {
     "data": {
      "text/plain": [
       "123"
      ]
     },
     "execution_count": 15,
     "metadata": {},
     "output_type": "execute_result"
    }
   ],
   "source": [
    "#f\n",
    "int(float('123.23')) #The right interpretation for example d.\n"
   ]
  },
  {
   "cell_type": "code",
   "execution_count": 16,
   "id": "12fbb557-9a5d-4679-9bc6-f096797b7866",
   "metadata": {},
   "outputs": [
    {
     "data": {
      "text/plain": [
       "'12'"
      ]
     },
     "execution_count": 16,
     "metadata": {},
     "output_type": "execute_result"
    }
   ],
   "source": [
    "#g\n",
    "str(12) #converts integer to a string.\n"
   ]
  },
  {
   "cell_type": "code",
   "execution_count": null,
   "id": "4144a1de-d667-43d5-9f24-5f9882c2129e",
   "metadata": {},
   "outputs": [],
   "source": [
    "#h\n",
    "str(12.2) #converts float to a string.\n"
   ]
  },
  {
   "cell_type": "code",
   "execution_count": 17,
   "id": "2609bb82-58dc-4dd2-84f8-c7c5b575f868",
   "metadata": {},
   "outputs": [
    {
     "data": {
      "text/plain": [
       "True"
      ]
     },
     "execution_count": 17,
     "metadata": {},
     "output_type": "execute_result"
    }
   ],
   "source": [
    "#i\n",
    "bool('a') #converted string to boolean number, ASCII is not 0"
   ]
  },
  {
   "cell_type": "code",
   "execution_count": 18,
   "id": "16eb67db-bf9d-48a2-888c-823e16cfad9c",
   "metadata": {},
   "outputs": [
    {
     "data": {
      "text/plain": [
       "False"
      ]
     },
     "execution_count": 18,
     "metadata": {},
     "output_type": "execute_result"
    }
   ],
   "source": [
    "#j\n",
    "bool(0) #converted to a boolean type since 0 is false by default, it returns false."
   ]
  },
  {
   "cell_type": "code",
   "execution_count": 19,
   "id": "3fffe590-369e-4e78-8f3b-08d11697cf59",
   "metadata": {},
   "outputs": [
    {
     "data": {
      "text/plain": [
       "True"
      ]
     },
     "execution_count": 19,
     "metadata": {},
     "output_type": "execute_result"
    }
   ],
   "source": [
    "#k\n",
    "bool(0.1) #Translate floating point numbers to Boolean, it is true since it is bigger than 0.\n"
   ]
  },
  {
   "cell_type": "markdown",
   "id": "cf216882-ad78-4d25-a343-e49bb5ad3335",
   "metadata": {},
   "source": [
    "**Control Flow**\n",
    "* Exercise 2.1: Range"
   ]
  },
  {
   "cell_type": "code",
   "execution_count": null,
   "id": "79d8e66a-0dae-468a-9fbb-4e7475685abb",
   "metadata": {},
   "outputs": [],
   "source": [
    "range(5)"
   ]
  },
  {
   "cell_type": "code",
   "execution_count": null,
   "id": "7c62cc67-2c80-4970-bd67-46864e860e63",
   "metadata": {},
   "outputs": [],
   "source": [
    "type(range(5))"
   ]
  },
  {
   "cell_type": "markdown",
   "id": "203233ba-68c0-41b9-a71a-e19d2a9e0709",
   "metadata": {},
   "source": [
    "The range function is a built-in python function which generates a sequence of numbers.It takes two parameters and generates the sequence of numbers in this *range*\n",
    "The range function could also takes a step parameter. For i in range represents each element of this sequence of numbers.\n"
   ]
  },
  {
   "cell_type": "markdown",
   "id": "6a39329c-4d38-40b8-a447-78c316315f28",
   "metadata": {},
   "source": [
    "* Exercise 2.2: For loops"
   ]
  },
  {
   "cell_type": "code",
   "execution_count": null,
   "id": "ad4cf847-dd83-428a-8128-91168dcc2850",
   "metadata": {},
   "outputs": [],
   "source": [
    "#a\n",
    "for a in range(101):\n",
    "    print(a)"
   ]
  },
  {
   "cell_type": "code",
   "execution_count": null,
   "id": "3c8f042f-ba2e-4425-899c-3b457a37c5da",
   "metadata": {
    "tags": []
   },
   "outputs": [],
   "source": [
    "#b\n",
    "a=range(101) #The numbers from 0-100.\n",
    "for i in a:\n",
    "    if i%7==0: #I have used the % operator which is the remainder operator in order to select the numbers within the range that are divisible by 7.\n",
    "        print(i)"
   ]
  },
  {
   "cell_type": "code",
   "execution_count": null,
   "id": "997fab8c-f114-4892-aa02-cf896ad502a2",
   "metadata": {},
   "outputs": [],
   "source": [
    "#c\n",
    "a= range (1,101)\n",
    "\n",
    "for i in a:\n",
    "    if i%5==0 and i%3!=0: #divisible by 5 but not by 3.\n",
    "        print(i)"
   ]
  },
  {
   "cell_type": "code",
   "execution_count": null,
   "id": "8a7ed557-94c8-41ad-8d4e-fccae114f7f1",
   "metadata": {},
   "outputs": [],
   "source": [
    "#d\n",
    "a= range(2,20)\n",
    "x=[]\n",
    "for i in a:\n",
    "    c=0\n",
    "    for j in range (1,i):\n",
    "        if i%j==0:\n",
    "            c+=1\n",
    "    if c==1:\n",
    "        x.append(i)\n",
    "print(x)\n",
    "    "
   ]
  },
  {
   "cell_type": "markdown",
   "id": "59b4e567-c809-42a9-9271-60328a1f36df",
   "metadata": {},
   "source": [
    "* Exercise 2.3: Simple while loops"
   ]
  },
  {
   "cell_type": "code",
   "execution_count": null,
   "id": "9850c5d5-9e64-4979-a2b1-a9c7a1a68579",
   "metadata": {
    "tags": []
   },
   "outputs": [],
   "source": [
    "#a\n",
    "x = 1\n",
    "while x <= 100:\n",
    "    print(x)\n",
    "    x = x+1"
   ]
  },
  {
   "cell_type": "code",
   "execution_count": null,
   "id": "5aa77ded-6e40-4f41-9ade-4766fdd8ea45",
   "metadata": {},
   "outputs": [],
   "source": [
    "#b\n",
    "x=1\n",
    "while x <= 100:\n",
    "    x=x+1\n",
    "    if x%7==0:\n",
    "        print(x)"
   ]
  },
  {
   "cell_type": "markdown",
   "id": "4c77f1d1-f466-482a-8a3e-684c739832f5",
   "metadata": {},
   "source": [
    "* Exercise 2.4: Hangman update 1"
   ]
  },
  {
   "cell_type": "code",
   "execution_count": null,
   "id": "a9e2bcb7-4c93-485c-a7f2-2f305f434aaf",
   "metadata": {},
   "outputs": [],
   "source": []
  },
  {
   "cell_type": "code",
   "execution_count": null,
   "id": "d91c9cbc-a2fc-437b-895d-555ff163fd7e",
   "metadata": {},
   "outputs": [],
   "source": []
  },
  {
   "cell_type": "markdown",
   "id": "df44327e-c850-4612-b0d9-748cc960a803",
   "metadata": {},
   "source": [
    "* Exercise 2.5: While Loops"
   ]
  },
  {
   "cell_type": "code",
   "execution_count": null,
   "id": "0e3c94db-1711-4c05-b5e1-0f63b57a0838",
   "metadata": {},
   "outputs": [],
   "source": [
    "c=0\n",
    "x=11\n",
    "while c<20:\n",
    "    if x%5==0 and x%7==0 and x%11==0:\n",
    "        print(x)\n",
    "        c=c+1\n",
    "    x=x+1\n",
    "    \n"
   ]
  },
  {
   "cell_type": "markdown",
   "id": "8e102f49-8ed8-40ed-b024-4c428caca089",
   "metadata": {},
   "source": [
    "* Exercise 2.6: More while loops"
   ]
  },
  {
   "cell_type": "code",
   "execution_count": 20,
   "id": "7c38e771-9a36-4fa6-b979-ed0bb7212348",
   "metadata": {},
   "outputs": [
    {
     "name": "stdout",
     "output_type": "stream",
     "text": [
      "2520\n"
     ]
    }
   ],
   "source": [
    "c= 0\n",
    "x = 10\n",
    "while (c== 0):\n",
    "    if (x%1==0 and x%2==0 and x%3==0 and x%4==0 and x%5==0 and x%6==0 and x%7==0 and x%8 ==0 and x%9 == 0 and x%10==0):\n",
    "            print(x)\n",
    "            c += 1\n",
    "    x += 1"
   ]
  },
  {
   "cell_type": "markdown",
   "id": "90c8a76f-a027-4854-8a92-a0c29de5140f",
   "metadata": {},
   "source": [
    "* Exercise 2.7: Collatz sequence"
   ]
  },
  {
   "cell_type": "code",
   "execution_count": 23,
   "id": "3e2848be-6bca-4be2-8409-e8158bbf2df9",
   "metadata": {},
   "outputs": [
    {
     "name": "stdout",
     "output_type": "stream",
     "text": [
      "310\n",
      "155.0\n",
      "466.0\n",
      "233.0\n",
      "700.0\n",
      "350.0\n",
      "175.0\n",
      "526.0\n",
      "263.0\n",
      "790.0\n",
      "395.0\n",
      "1186.0\n",
      "593.0\n",
      "1780.0\n",
      "890.0\n",
      "445.0\n",
      "1336.0\n",
      "668.0\n",
      "334.0\n",
      "167.0\n",
      "502.0\n",
      "251.0\n",
      "754.0\n",
      "377.0\n",
      "1132.0\n",
      "566.0\n",
      "283.0\n",
      "850.0\n",
      "425.0\n",
      "1276.0\n",
      "638.0\n",
      "319.0\n",
      "958.0\n",
      "479.0\n",
      "1438.0\n",
      "719.0\n",
      "2158.0\n",
      "1079.0\n",
      "3238.0\n",
      "1619.0\n",
      "4858.0\n",
      "2429.0\n",
      "7288.0\n",
      "3644.0\n",
      "1822.0\n",
      "911.0\n",
      "2734.0\n",
      "1367.0\n",
      "4102.0\n",
      "2051.0\n",
      "6154.0\n",
      "3077.0\n",
      "9232.0\n",
      "4616.0\n",
      "2308.0\n",
      "1154.0\n",
      "577.0\n",
      "1732.0\n",
      "866.0\n",
      "433.0\n",
      "1300.0\n",
      "650.0\n",
      "325.0\n",
      "976.0\n",
      "488.0\n",
      "244.0\n",
      "122.0\n",
      "61.0\n",
      "184.0\n",
      "92.0\n",
      "46.0\n",
      "23.0\n",
      "70.0\n",
      "35.0\n",
      "106.0\n",
      "53.0\n",
      "160.0\n",
      "80.0\n",
      "40.0\n",
      "20.0\n",
      "10.0\n",
      "5.0\n",
      "16.0\n",
      "8.0\n",
      "4.0\n",
      "2.0\n",
      "1.0\n"
     ]
    }
   ],
   "source": [
    "collatz = int(103) # \"Print the Collatz sequence starting at x0 = 103.\"\n",
    "while (collatz!=1):\n",
    "    if (collatz % 2 == 1): \n",
    "        collatz = 3 * collatz + 1\n",
    "        print (collatz)\n",
    "    elif (collatz % 2 == 0):\n",
    "        collatz = collatz / 2\n",
    "        print (collatz)"
   ]
  },
  {
   "cell_type": "markdown",
   "id": "d56248a8-73d2-432b-bf30-1f992f0d5f62",
   "metadata": {},
   "source": [
    "**Functions**"
   ]
  },
  {
   "cell_type": "markdown",
   "id": "2ff65e49-663c-44b8-aa51-1b3192e57392",
   "metadata": {},
   "source": [
    "* Exercise 3.1: Hello"
   ]
  },
  {
   "cell_type": "code",
   "execution_count": 25,
   "id": "dd1368f2-f486-4261-9352-241539d4f5ac",
   "metadata": {},
   "outputs": [],
   "source": [
    "#a\n",
    "def sayhello():\n",
    "    print(\"Hello, world!\")\n"
   ]
  },
  {
   "cell_type": "code",
   "execution_count": 26,
   "id": "8bbde4d8-51e5-4ab4-ab3c-7ab6fdcd509b",
   "metadata": {},
   "outputs": [],
   "source": [
    "#b\n",
    "def hello_name(name):\n",
    "    print(\"Hello, \"+ name + \"!\")"
   ]
  },
  {
   "cell_type": "markdown",
   "id": "09430442-edc5-4960-87e6-32845ff314fa",
   "metadata": {},
   "source": [
    "c\n",
    "Printing is the process of displaying a value in the console. \n",
    "Returning is used to return a value from a function and exits the function."
   ]
  },
  {
   "cell_type": "markdown",
   "id": "92dd3233-a83f-4f0d-820a-622a7c803269",
   "metadata": {},
   "source": [
    "* Exercise 3.2: Polynomial"
   ]
  },
  {
   "cell_type": "code",
   "execution_count": 34,
   "id": "8933af4b-d21b-4d58-9975-5473b69f1aa9",
   "metadata": {},
   "outputs": [
    {
     "ename": "SyntaxError",
     "evalue": "invalid syntax (<ipython-input-34-1383fbd9cd57>, line 2)",
     "output_type": "error",
     "traceback": [
      "\u001b[1;36m  File \u001b[1;32m\"<ipython-input-34-1383fbd9cd57>\"\u001b[1;36m, line \u001b[1;32m2\u001b[0m\n\u001b[1;33m    return 3x**2-x+2\u001b[0m\n\u001b[1;37m            ^\u001b[0m\n\u001b[1;31mSyntaxError\u001b[0m\u001b[1;31m:\u001b[0m invalid syntax\n"
     ]
    }
   ],
   "source": [
    "def p(x):\n",
    "    return 3x**2-x+2"
   ]
  },
  {
   "cell_type": "markdown",
   "id": "ccaf6715-20bd-4ba0-8ee5-7348a2e38330",
   "metadata": {},
   "source": [
    "* Exercise 3.3: Maximum"
   ]
  },
  {
   "cell_type": "code",
   "execution_count": 27,
   "id": "98791ab6-4dc2-4962-8fca-bb653095a520",
   "metadata": {},
   "outputs": [],
   "source": [
    "#a\n",
    "def my_max(x, y):\n",
    "    if x > y:\n",
    "        return x\n",
    "    elif y >  x:\n",
    "        return y"
   ]
  },
  {
   "cell_type": "code",
   "execution_count": 28,
   "id": "5b593eb5-b68e-4fca-9200-605c40aca81a",
   "metadata": {},
   "outputs": [],
   "source": [
    "#b We could only use if in this part of the question.\n",
    "def my_max(x, y):\n",
    "    if x >= y:\n",
    "        return x\n",
    "    return y"
   ]
  },
  {
   "cell_type": "markdown",
   "id": "08295a36-31c4-4e28-8d07-c85cadf10b83",
   "metadata": {},
   "source": [
    "* Exercise 3.4: Primes"
   ]
  },
  {
   "cell_type": "code",
   "execution_count": 35,
   "id": "8620c5ac-a4b8-462a-b857-fa9cbb63abbf",
   "metadata": {},
   "outputs": [],
   "source": [
    "#a\n",
    "def is_prime(n):\n",
    "    if (n <= 1):\n",
    "        return False\n",
    "    n = int(n)\n",
    "    isPrime = True;\n",
    "    for i in range(2, n):\n",
    "        if (n%i==0):\n",
    "            isPrime = False\n",
    "            return isPrime\n",
    "    return isPrime"
   ]
  },
  {
   "cell_type": "code",
   "execution_count": 36,
   "id": "38ecc3ba-93c0-4b8b-a2c4-c696b8c5dc35",
   "metadata": {},
   "outputs": [],
   "source": [
    "#b\n",
    "def is_prime_6(n):\n",
    "    if ((n-1)%6 == 0):\n",
    "        if (n <= 1):\n",
    "            return False\n",
    "        n = int(n)\n",
    "        isPrime = True;\n",
    "        for i in range(2, n):\n",
    "            if (n%i==0):\n",
    "                isPrime = False\n",
    "                return isPrime\n",
    "        return isPrime\n",
    "    return False "
   ]
  },
  {
   "cell_type": "code",
   "execution_count": 37,
   "id": "f207f229-1b94-4426-8d4c-0062a7c892a8",
   "metadata": {},
   "outputs": [],
   "source": [
    "#c\n",
    "def print_primes(n):\n",
    "    for i in range (0, n):\n",
    "        if (is_prime(i)):\n",
    "            print(i)"
   ]
  },
  {
   "cell_type": "code",
   "execution_count": 38,
   "id": "50c36013-a487-4794-92f8-8a362558c515",
   "metadata": {},
   "outputs": [],
   "source": [
    "#d\n",
    "def first_primes(n):\n",
    "    count = 0\n",
    "    test = 0\n",
    "    while n > count:\n",
    "        if (is_prime(test)):\n",
    "            print (test)\n",
    "            count += 1\n",
    "            test += 1\n",
    "        else:\n",
    "            test += 1"
   ]
  },
  {
   "cell_type": "markdown",
   "id": "ce3c30fa-09a2-484f-b013-d662e7607512",
   "metadata": {},
   "source": [
    "* Exercise 3.5: Root finding"
   ]
  },
  {
   "cell_type": "code",
   "execution_count": 39,
   "id": "77e8cee3-f0ee-40c1-923f-39582d562cbd",
   "metadata": {},
   "outputs": [],
   "source": [
    "#a\n",
    "def root(f,a,b):\n",
    "    if (f(a) == f(b)):\n",
    "        c = f(a)\n",
    "        return c"
   ]
  },
  {
   "cell_type": "code",
   "execution_count": 40,
   "id": "dce38204-fb01-44a0-a2da-98a8da0939c9",
   "metadata": {},
   "outputs": [],
   "source": [
    "#b\n",
    "def root(f,a,b):\n",
    "    if (f(a) == f(b)):\n",
    "        c = f(a)\n",
    "        return c"
   ]
  },
  {
   "cell_type": "code",
   "execution_count": 41,
   "id": "ef3d0f26-1052-4449-ba02-714ea1b6a744",
   "metadata": {},
   "outputs": [],
   "source": [
    "#c\n",
    "def root(f,a,b):\n",
    "    if f(a) > 0 and f(b) > 0:\n",
    "        print (\"function evals have the same sign\")\n",
    "    elif f(a) < 0 and f(b) < 0:\n",
    "        print (\"function evals have the same sign\")\n",
    "    elif (f(a) == f(b)):\n",
    "        c = f(a)\n",
    "        return c"
   ]
  },
  {
   "cell_type": "code",
   "execution_count": null,
   "id": "fe00c5bc-1dfd-43f7-81f3-848e22bd5cb9",
   "metadata": {},
   "outputs": [],
   "source": []
  }
 ],
 "metadata": {
  "kernelspec": {
   "display_name": "Python 3",
   "language": "python",
   "name": "python3"
  },
  "language_info": {
   "codemirror_mode": {
    "name": "ipython",
    "version": 3
   },
   "file_extension": ".py",
   "mimetype": "text/x-python",
   "name": "python",
   "nbconvert_exporter": "python",
   "pygments_lexer": "ipython3",
   "version": "3.8.8"
  }
 },
 "nbformat": 4,
 "nbformat_minor": 5
}
